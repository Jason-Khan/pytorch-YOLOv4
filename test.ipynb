{
 "cells": [
  {
   "cell_type": "code",
   "execution_count": 1,
   "metadata": {},
   "outputs": [],
   "source": [
    "from models import Yolov4\n",
    "import cv2\n",
    "import matplotlib.pyplot as plt\n",
    "import numpy as np\n",
    "import torch"
   ]
  },
  {
   "cell_type": "code",
   "execution_count": 14,
   "metadata": {},
   "outputs": [],
   "source": []
  },
  {
   "cell_type": "code",
   "execution_count": 2,
   "metadata": {},
   "outputs": [
    {
     "ename": "IndentationError",
     "evalue": "unexpected indent (<ipython-input-2-c96f210fef49>, line 3)",
     "output_type": "error",
     "traceback": [
      "\u001b[0;36m  File \u001b[0;32m\"<ipython-input-2-c96f210fef49>\"\u001b[0;36m, line \u001b[0;32m3\u001b[0m\n\u001b[0;31m    import matplotlib.pyplot as plt\u001b[0m\n\u001b[0m    ^\u001b[0m\n\u001b[0;31mIndentationError\u001b[0m\u001b[0;31m:\u001b[0m unexpected indent\n"
     ]
    }
   ],
   "source": [
    "from dataset import *\n",
    "from cfg import Cfg\n",
    "import matplotlib.pyplot as plt\n",
    "\n",
    "random.seed(2020)\n",
    "np.random.seed(2020)\n",
    "Cfg.dataset_dir = '../rpn_output'\n",
    "dataset = Yolo_dataset(Cfg)\n",
    "for i in range(5):\n",
    "    out_img, out_bboxes = dataset.__getitem__(i)\n",
    "    a = draw_box(out_img.copy(), out_bboxes.astype(np.int32))\n",
    "    plt.imshow(a.astype(np.int32))\n",
    "    plt.show()"
   ]
  },
  {
   "cell_type": "code",
   "execution_count": null,
   "metadata": {},
   "outputs": [],
   "source": []
  },
  {
   "cell_type": "code",
   "execution_count": null,
   "metadata": {},
   "outputs": [],
   "source": [
    "mask_dir = os.path.join(\"../rpn_output/roi_test_masks\")\n",
    "with open(os.path.join(mask_dir, \"all_bboxes.json\"), 'r') as f:\n",
    "    gt_boxes_dict = json.load(f)\n",
    "\n",
    "path_gt = 'gt_synthetic/'\n",
    "for i in tqdm(range(90000, 100000)):\n",
    "    f = open(path_gt + str(i) + '.txt','w+')\n",
    "    for bboxes in gt_boxes_dict['img_{:d}'.format(i)]['boxes']:\n",
    "        f.write('Barcode {:d} {:d} {:d} {:d}\\n'.format(bbox[0], \n",
    "                                                        bbox[1], \n",
    "                                                        bbox[2], \n",
    "                                                        bbox[3]))\n",
    "f.close()"
   ]
  },
  {
   "cell_type": "code",
   "execution_count": null,
   "metadata": {},
   "outputs": [],
   "source": [
    "model = Yolov4(\"checkpoints/Yolov4_epoch100.pth\", 1, True)"
   ]
  },
  {
   "cell_type": "code",
   "execution_count": 1,
   "metadata": {},
   "outputs": [
    {
     "output_type": "error",
     "ename": "IndentationError",
     "evalue": "unindent does not match any outer indentation level (<tokenize>, line 9)",
     "traceback": [
      "\u001b[1;36m  File \u001b[1;32m\"<tokenize>\"\u001b[1;36m, line \u001b[1;32m9\u001b[0m\n\u001b[1;33m    f = open(path_pred + str(k) + '.txt','w+')\u001b[0m\n\u001b[1;37m    ^\u001b[0m\n\u001b[1;31mIndentationError\u001b[0m\u001b[1;31m:\u001b[0m unindent does not match any outer indentation level\n"
     ]
    }
   ],
   "source": [
    "im_dir = os.path.join(\"../rpn_output/roi_test_im/\")\n",
    "path_pred = 'pred_synthetic/'\n",
    "pred_boxs = {}\n",
    "\n",
    "for i in tqdm(range(90000, 100000)):\n",
    "    img_path = os.path.join(im_dir, \"roi{}.png\".format(i))\n",
    "    img = cv2.imread(img_path)\n",
    "    img = cv2.resize(img, (self.cfg.width, self.cfg.height))\n",
    "    img = cv2.cvtColor(img, cv2.COLOR_BGR2RGB)\n",
    "\n",
    "    bboxes = do_detect(model, im, 0.4, 0.4, True)\n",
    "    bbs_pred, confidences = bboxes[:, :4], bboxes[:, 4]\n",
    "    f = open(path_pred + str(i) + '.txt','w+')\n",
    "    for j, bb_pred in enumerate(bbs_pred):\n",
    "        f.write('Barcode {:1.3f} {:d} {:d} {:d} {:d}\\n'.format(confidences[j], \n",
    "                                                                        bb_pred[0], \n",
    "                                                                        bb_pred[1], \n",
    "                                                                        bb_pred[2], \n",
    "                                                                        bb_pred[3]))\n",
    "    # Pred Boxes dict\n",
    "    pred_boxs[\"img_{:d}\".format(k)]= {\"boxes\": bbs_pred, \"scores\": confidences}\n",
    "    f.close()\n"
   ]
  },
  {
   "cell_type": "code",
   "execution_count": null,
   "metadata": {},
   "outputs": [],
   "source": []
  }
 ],
 "metadata": {
  "kernelspec": {
   "name": "python3",
   "display_name": "Python 3.8.5 64-bit (conda)",
   "metadata": {
    "interpreter": {
     "hash": "726782a55eb1f8c968fa3c0a110980b753af8602a37f7fa7fa52afcc5094d461"
    }
   }
  },
  "language_info": {
   "codemirror_mode": {
    "name": "ipython",
    "version": 3
   },
   "file_extension": ".py",
   "mimetype": "text/x-python",
   "name": "python",
   "nbconvert_exporter": "python",
   "pygments_lexer": "ipython3",
   "version": "3.8.5-final"
  }
 },
 "nbformat": 4,
 "nbformat_minor": 2
}